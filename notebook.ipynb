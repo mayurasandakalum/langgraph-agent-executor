{
 "cells": [
  {
   "cell_type": "markdown",
   "metadata": {},
   "source": [
    "# Setup"
   ]
  },
  {
   "cell_type": "code",
   "execution_count": 63,
   "metadata": {},
   "outputs": [],
   "source": [
    "import os\n",
    "import json\n",
    "import getpass\n",
    "import operator\n",
    "\n",
    "from dotenv import load_dotenv\n",
    "from typing import TypedDict, Annotated, List, Union\n",
    "from IPython.display import display, Markdown, clear_output, Image\n",
    "\n",
    "from langchain_core.agents import AgentFinish\n",
    "from langchain_core.messages import BaseMessage\n",
    "from langchain_core.agents import AgentAction, AgentFinish\n",
    "\n",
    "from langgraph.graph import END, StateGraph\n",
    "from langgraph.prebuilt.tool_executor import ToolExecutor\n",
    "\n",
    "from langchain import hub\n",
    "from langchain.agents import create_openai_functions_agent\n",
    "\n",
    "from langchain_openai.chat_models import ChatOpenAI\n",
    "from langchain_community.tools.tavily_search import TavilySearchResults"
   ]
  },
  {
   "cell_type": "code",
   "execution_count": 2,
   "metadata": {},
   "outputs": [],
   "source": [
    "def display_md(md):\n",
    "    clear_output()\n",
    "    display(Markdown(md))\n",
    "\n",
    "def display_json(json_data):\n",
    "    display_md(f'```json\\n{json.dumps(json_data, indent=2)}\\n```')"
   ]
  },
  {
   "cell_type": "code",
   "execution_count": 3,
   "metadata": {},
   "outputs": [],
   "source": [
    "# Set environment variable if not already set\n",
    "def _set_env(var: str):\n",
    "    if not os.environ.get(var):\n",
    "        os.environ[var] = getpass.getpass(f\"{var}\")"
   ]
  },
  {
   "cell_type": "code",
   "execution_count": 4,
   "metadata": {},
   "outputs": [
    {
     "name": "stdout",
     "output_type": "stream",
     "text": [
      "GROQ_API_KEY is set\n",
      "TAVILY_API_KEY is set\n",
      "LANGCHAIN_API_KEY is set\n",
      "OPENAI_API_KEY is set\n",
      "LANGCHAIN_TRACING_V2 is set\n",
      "LANGCHAIN_ENDPOINT is set\n",
      "LANGCHAIN_PROJECT is set\n"
     ]
    }
   ],
   "source": [
    "# Load environment variables from .env file\n",
    "load_dotenv()\n",
    "\n",
    "# API keys to check\n",
    "api_list = [\n",
    "    \"GROQ_API_KEY\",\n",
    "    \"TAVILY_API_KEY\",\n",
    "    \"LANGCHAIN_API_KEY\",\n",
    "    \"OPENAI_API_KEY\",\n",
    "    \"LANGCHAIN_TRACING_V2\",\n",
    "    \"LANGCHAIN_ENDPOINT\",\n",
    "    \"LANGCHAIN_PROJECT\"\n",
    "]\n",
    "\n",
    "# Check if API keys are set\n",
    "for api in api_list:\n",
    "    if os.getenv(api) is None:\n",
    "        print(f\"{api} is not set\")\n",
    "        _set_env(api)\n",
    "    else:\n",
    "        print(f\"{api} is set\")"
   ]
  },
  {
   "cell_type": "markdown",
   "metadata": {},
   "source": [
    "## Create the LangChain agent"
   ]
  },
  {
   "cell_type": "code",
   "execution_count": 6,
   "metadata": {},
   "outputs": [],
   "source": [
    "tools = [TavilySearchResults(max_results=1)]"
   ]
  },
  {
   "cell_type": "code",
   "execution_count": 59,
   "metadata": {},
   "outputs": [
    {
     "data": {
      "text/markdown": [
       "```json\n",
       "{\n",
       "  \"name\": null,\n",
       "  \"input_variables\": [\n",
       "    \"agent_scratchpad\",\n",
       "    \"input\"\n",
       "  ],\n",
       "  \"optional_variables\": [\n",
       "    \"chat_history\"\n",
       "  ],\n",
       "  \"output_parser\": null,\n",
       "  \"partial_variables\": {\n",
       "    \"chat_history\": []\n",
       "  },\n",
       "  \"metadata\": {\n",
       "    \"lc_hub_owner\": \"hwchase17\",\n",
       "    \"lc_hub_repo\": \"openai-functions-agent\",\n",
       "    \"lc_hub_commit_hash\": \"a1655024b06afbd95d17449f21316291e0726f13dcfaf990cc0d18087ad689a5\"\n",
       "  },\n",
       "  \"tags\": null,\n",
       "  \"messages\": [\n",
       "    {},\n",
       "    {},\n",
       "    {},\n",
       "    {}\n",
       "  ],\n",
       "  \"validate_template\": false,\n",
       "  \"_type\": \"chat\"\n",
       "}\n",
       "```"
      ],
      "text/plain": [
       "<IPython.core.display.Markdown object>"
      ]
     },
     "metadata": {},
     "output_type": "display_data"
    }
   ],
   "source": [
    "# This script pulls a predefined prompt template from the LangChain Hub and displays it in JSON format.\n",
    "#\n",
    "# The prompt template used is \"hwchase17/openai-functions-agent\", created by Harrison Chase (GitHub username: hwchase17).\n",
    "# This template is designed to facilitate the creation of agents that utilize OpenAI's function calling capabilities\n",
    "# to determine and execute actions based on user inputs.\n",
    "#\n",
    "# The script performs the following steps:\n",
    "# 1. Pulls the prompt template from the LangChain Hub using the `hub.pull` method.\n",
    "# 2. Displays the pulled prompt template in JSON format using the `display_json` method.\n",
    "\n",
    "prompt = hub.pull(\"hwchase17/openai-functions-agent\")\n",
    "display_json(prompt.dict())"
   ]
  },
  {
   "cell_type": "code",
   "execution_count": 60,
   "metadata": {},
   "outputs": [],
   "source": [
    "# Choose the LLM that will drive the agent\n",
    "llm = ChatOpenAI(model=\"gpt-4o-mini\", streaming=True)"
   ]
  },
  {
   "cell_type": "code",
   "execution_count": 9,
   "metadata": {},
   "outputs": [],
   "source": [
    "# Construct the OpenAI Functions agent\n",
    "agent_runnable = create_openai_functions_agent(llm, tools, prompt)"
   ]
  },
  {
   "cell_type": "markdown",
   "metadata": {},
   "source": [
    "## Define the graph state\n",
    "\n",
    "We now define the graph state. The state for the traditional LangChain agent has a few attributes\n",
    "\n",
    "1. `input`: This is the input string representing the main ask from the user, passed in as input.\n",
    "2. `chat_history`: This is any previous coversation messages, also passed in as input.\n",
    "3. `intermediate_steps`: This is list of actions and corresponding observations that the agent takes over time. This is updated each iteration of the agent.\n",
    "4. `agent_outcome`: This is the response from the agent, either and AgentAction or AgentFinish. the AgentExecutor should finish when this is an AgentFinish, otherwise it should call the requested tools."
   ]
  },
  {
   "cell_type": "code",
   "execution_count": 11,
   "metadata": {},
   "outputs": [],
   "source": [
    "class AgentState(TypedDict):\n",
    "    # The input string\n",
    "    input: str\n",
    "\n",
    "    # The list of previous messages in the conversation.\n",
    "    chat_history: List[BaseMessage]\n",
    "\n",
    "    # List of actions and corresponding observations\n",
    "    # Needs 'None' as a valid type, since this is what this will start as.\n",
    "    agent_outcome: Union[AgentAction, AgentFinish, None]\n",
    "\n",
    "    # List of actions and corresponding observations\n",
    "    # Here we annotate this with `operator.add` to indicate that operations to\n",
    "    # this state should be ADDED to the existing values (not overwrite it)\n",
    "    intermediate_steps: Annotated[list[tuple[AgentAction, str]], operator.add]"
   ]
  },
  {
   "cell_type": "markdown",
   "metadata": {},
   "source": [
    "## Define the nodes\n",
    "\n",
    "We now need to define a few different nodes in our graph. In `langgraph`, a node can be either a function or a runnable. There are two main nodes we need for this:\n",
    "\n",
    "  1. The agent responsible for deciding what (if any) actions to take.\n",
    "  2. A function to invoke tools: if the agent decides to take an action, decides to take an action, this node will then execute that action.\n",
    "\n",
    "We will also need to define some edges. Some of these edges may be conditional. The reason they are conditional is that based on the output of a node, one of several paths may be taken. The path that is taken is not known until that node is run (the LLM decides).\n",
    "\n",
    "  1. `Conditional Edge`: After the agent is called, we should either:<br>\n",
    "     **a.** If the agent said to take an action, they the function to invoke tools should be called<br>\n",
    "     **b.** If the agent said that it was finished, then it should finish.\n",
    "\n",
    "  2. `Normal Edge`: After the tools are invoked, it should always go back to the agent to decide what to do next.\n",
    "\n",
    "Let's define the nodes, as well as a function to decide how what conditional edge to take."
   ]
  },
  {
   "cell_type": "code",
   "execution_count": 13,
   "metadata": {},
   "outputs": [
    {
     "name": "stderr",
     "output_type": "stream",
     "text": [
      "C:\\Users\\Makara\\AppData\\Local\\Temp\\ipykernel_31416\\2850702825.py:3: LangGraphDeprecationWarning: ToolExecutor is deprecated as of version 0.2.0 and will be removed in 0.3.0. Use langgraph.prebuilt.ToolNode instead.\n",
      "  tool_executor = ToolExecutor(tools)\n"
     ]
    }
   ],
   "source": [
    "# This a helper class we have that is useful for running tools\n",
    "# It takes in an agent action and calls that tool and returns the result\n",
    "tool_executor = ToolExecutor(tools)"
   ]
  },
  {
   "cell_type": "markdown",
   "metadata": {},
   "source": [
    "`run_agent()`"
   ]
  },
  {
   "cell_type": "code",
   "execution_count": 14,
   "metadata": {},
   "outputs": [],
   "source": [
    "# Define the agent\n",
    "def run_agent(data):\n",
    "    agent_outcome = agent_runnable.invoke(data)\n",
    "    return {\n",
    "        \"agent_outcome\": agent_outcome\n",
    "    }"
   ]
  },
  {
   "cell_type": "markdown",
   "metadata": {},
   "source": [
    "`execute_tools()`"
   ]
  },
  {
   "cell_type": "code",
   "execution_count": 15,
   "metadata": {},
   "outputs": [],
   "source": [
    "# Define the function to execute tools\n",
    "def execute_tools(data):\n",
    "    # Get the most recent agent outcome - this is the key added in the `agent` above\n",
    "    agent_action = data[\"agent_outcome\"]\n",
    "    output = tool_executor.invoke(agent_action)\n",
    "    return {\n",
    "        \"intermediate_steps\": [(agent_action, str(output))]\n",
    "    }"
   ]
  },
  {
   "cell_type": "markdown",
   "metadata": {},
   "source": [
    "`should_continue()`"
   ]
  },
  {
   "cell_type": "code",
   "execution_count": 16,
   "metadata": {},
   "outputs": [],
   "source": [
    "# Define the logic that will be used to determine which conditional edge to go down\n",
    "def should_continue(data):\n",
    "    # If the agent outcome is an AgentFinish, then we return `end` string\n",
    "    # This will be used when setting up the graph to define the flow\n",
    "    if isinstance(data[\"agent_outcome\"], AgentFinish):\n",
    "        return \"end\"\n",
    "    # Otherwise, an AgentAction is returned\n",
    "    # Here we return `continue` string\n",
    "    # This will be used when setting up the graph to define the flow\n",
    "    else:\n",
    "        return \"continue\""
   ]
  },
  {
   "cell_type": "markdown",
   "metadata": {},
   "source": [
    "## Define the Graph\n",
    "\n",
    "We can now put it all together and define the graph!"
   ]
  },
  {
   "cell_type": "code",
   "execution_count": 18,
   "metadata": {},
   "outputs": [],
   "source": [
    "# Define a new graph\n",
    "workflow = StateGraph(AgentState)"
   ]
  },
  {
   "cell_type": "code",
   "execution_count": 19,
   "metadata": {},
   "outputs": [
    {
     "data": {
      "text/plain": [
       "<langgraph.graph.state.StateGraph at 0x228c5e9bda0>"
      ]
     },
     "execution_count": 19,
     "metadata": {},
     "output_type": "execute_result"
    }
   ],
   "source": [
    "# Define the two nodes we will cycle between\n",
    "workflow.add_node(\"agent\", run_agent)\n",
    "workflow.add_node(\"action\", execute_tools)\n",
    "\n",
    "# Set the entrypoint as `agent`\n",
    "# This means that this is the first one called\n",
    "workflow.set_entry_point(\"agent\")\n",
    "\n",
    "# We now add a conditional edge\n",
    "workflow.add_conditional_edges(\n",
    "    # First, we define the start node. We use `agent`.env\n",
    "    # This means these are the edges taken after the `agent` node is called.\n",
    "    \"agent\",\n",
    "\n",
    "    # Next, we pass in the function that will determine which node is called next.\n",
    "    should_continue,\n",
    "\n",
    "    # Finally, we pass in the mappting.\n",
    "    # The keys are strings, and the values are other nodes.\n",
    "    # END is a special node making that grpah should finish.\n",
    "    # What will happen is we will call `should_continue`, and then the output of that\n",
    "    # will be matched against the keys in this mapping.\n",
    "    # Based on which one it matches, that node will then be called.\n",
    "    {\n",
    "        # If `tools`, then we call the tool node.\n",
    "        \"continue\": \"action\",\n",
    "        # Otherwise we finish.\n",
    "        \"end\": END\n",
    "    }\n",
    ")\n",
    "\n",
    "# We now add a normal edge from `tools` to `agent`.\n",
    "# This means that after `tools` is called, `agent` node is called next.\n",
    "workflow.add_edge(\"action\", \"agent\")"
   ]
  },
  {
   "cell_type": "code",
   "execution_count": 23,
   "metadata": {},
   "outputs": [],
   "source": [
    "# Finally, we compile it!\n",
    "\n",
    "# This compiles it into a LangChain Runnable,\n",
    "# meaning you can use it as you would any other runnable.\n",
    "app = workflow.compile()"
   ]
  },
  {
   "cell_type": "code",
   "execution_count": 65,
   "metadata": {},
   "outputs": [
    {
     "data": {
      "image/png": "[encoded data removed]",
      "text/plain": [
       "<IPython.core.display.Image object>"
      ]
     },
     "metadata": {},
     "output_type": "display_data"
    }
   ],
   "source": [
    "# Display the compiled graph as an image\n",
    "display(Image(app.get_graph().draw_mermaid_png()))"
   ]
  },
  {
   "cell_type": "code",
   "execution_count": 55,
   "metadata": {},
   "outputs": [
    {
     "name": "stdout",
     "output_type": "stream",
     "text": [
      "{'agent_outcome': AgentActionMessageLog(tool='tavily_search_results_json', tool_input={'query': 'weather in Kuliyapitiya Sri Lanka'}, log=\"\\nInvoking: `tavily_search_results_json` with `{'query': 'weather in Kuliyapitiya Sri Lanka'}`\\n\\n\\n\", message_log=[AIMessage(content='', additional_kwargs={'function_call': {'arguments': '{\"query\":\"weather in Kuliyapitiya Sri Lanka\"}', 'name': 'tavily_search_results_json'}}, response_metadata={'finish_reason': 'function_call', 'model_name': 'gpt-4o-mini-2024-07-18', 'system_fingerprint': 'fp_d02d531b47'}, id='run-06e8702f-3390-4ccf-9be4-a698f543aa4d-0')])}\n",
      "------------------------------------------------------------------------\n",
      "{'intermediate_steps': [(AgentActionMessageLog(tool='tavily_search_results_json', tool_input={'query': 'weather in Kuliyapitiya Sri Lanka'}, log=\"\\nInvoking: `tavily_search_results_json` with `{'query': 'weather in Kuliyapitiya Sri Lanka'}`\\n\\n\\n\", message_log=[AIMessage(content='', additional_kwargs={'function_call': {'arguments': '{\"query\":\"weather in Kuliyapitiya Sri Lanka\"}', 'name': 'tavily_search_results_json'}}, response_metadata={'finish_reason': 'function_call', 'model_name': 'gpt-4o-mini-2024-07-18', 'system_fingerprint': 'fp_d02d531b47'}, id='run-06e8702f-3390-4ccf-9be4-a698f543aa4d-0')]), '[{\\'url\\': \\'https://www.weatherapi.com/\\', \\'content\\': \"{\\'location\\': {\\'name\\': \\'Kuliyapitiya\\', \\'region\\': \\'North Western\\', \\'country\\': \\'Sri Lanka\\', \\'lat\\': 7.4688, \\'lon\\': 80.0401, \\'tz_id\\': \\'Asia/Colombo\\', \\'localtime_epoch\\': 1735233267, \\'localtime\\': \\'2024-12-26 22:44\\'}, \\'current\\': {\\'last_updated_epoch\\': 1735232400, \\'last_updated\\': \\'2024-12-26 22:30\\', \\'temp_c\\': 25.6, \\'temp_f\\': 78.1, \\'is_day\\': 0, \\'condition\\': {\\'text\\': \\'Patchy rain nearby\\', \\'icon\\': \\'//cdn.weatherapi.com/weather/64x64/night/176.png\\', \\'code\\': 1063}, \\'wind_mph\\': 3.4, \\'wind_kph\\': 5.4, \\'wind_degree\\': 121, \\'wind_dir\\': \\'ESE\\', \\'pressure_mb\\': 1014.0, \\'pressure_in\\': 29.94, \\'precip_mm\\': 0.02, \\'precip_in\\': 0.0, \\'humidity\\': 84, \\'cloud\\': 81, \\'feelslike_c\\': 28.2, \\'feelslike_f\\': 82.8, \\'windchill_c\\': 25.6, \\'windchill_f\\': 78.1, \\'heatindex_c\\': 28.2, \\'heatindex_f\\': 82.8, \\'dewpoint_c\\': 22.6, \\'dewpoint_f\\': 72.7, \\'vis_km\\': 10.0, \\'vis_miles\\': 6.0, \\'uv\\': 0.0, \\'gust_mph\\': 5.2, \\'gust_kph\\': 8.4}}\"}]')]}\n",
      "------------------------------------------------------------------------\n",
      "{'agent_outcome': AgentFinish(return_values={'output': 'The current weather in Kuliyapitiya, Sri Lanka, is as follows:\\n\\n- **Temperature**: 25.6°C (78.1°F)\\n- **Condition**: Patchy rain nearby\\n- **Wind**: 3.4 mph (5.4 kph) from the East-Southeast\\n- **Humidity**: 84%\\n- **Cloud Cover**: 81%\\n- **Feels Like**: 28.2°C (82.8°F)\\n\\nFor more detailed and updated information, you can visit [WeatherAPI](https://www.weatherapi.com/).'}, log='The current weather in Kuliyapitiya, Sri Lanka, is as follows:\\n\\n- **Temperature**: 25.6°C (78.1°F)\\n- **Condition**: Patchy rain nearby\\n- **Wind**: 3.4 mph (5.4 kph) from the East-Southeast\\n- **Humidity**: 84%\\n- **Cloud Cover**: 81%\\n- **Feels Like**: 28.2°C (82.8°F)\\n\\nFor more detailed and updated information, you can visit [WeatherAPI](https://www.weatherapi.com/).')}\n",
      "------------------------------------------------------------------------\n"
     ]
    }
   ],
   "source": [
    "inputs = {\n",
    "    \"input\": \"What is the weather in kuliyapitiya sri lanka?\",\n",
    "    \"chat_history\": []\n",
    "}\n",
    "for s in app.stream(inputs):\n",
    "    outcome = list(s.values())[0]\n",
    "    print(list(s.values())[0])\n",
    "    print(\"------------------------------------------------------------------------\")"
   ]
  },
  {
   "cell_type": "code",
   "execution_count": 56,
   "metadata": {},
   "outputs": [
    {
     "data": {
      "text/markdown": [
       "The current weather in Kuliyapitiya, Sri Lanka, is as follows:\n",
       "\n",
       "- **Temperature**: 25.6°C (78.1°F)\n",
       "- **Condition**: Patchy rain nearby\n",
       "- **Wind**: 3.4 mph (5.4 kph) from the East-Southeast\n",
       "- **Humidity**: 84%\n",
       "- **Cloud Cover**: 81%\n",
       "- **Feels Like**: 28.2°C (82.8°F)\n",
       "\n",
       "For more detailed and updated information, you can visit [WeatherAPI](https://www.weatherapi.com/)."
      ],
      "text/plain": [
       "<IPython.core.display.Markdown object>"
      ]
     },
     "metadata": {},
     "output_type": "display_data"
    }
   ],
   "source": [
    "display_md(outcome['agent_outcome'].return_values['output'])"
   ]
  }
 ],
 "metadata": {
  "kernelspec": {
   "display_name": "ai-agents-env",
   "language": "python",
   "name": "python3"
  },
  "language_info": {
   "codemirror_mode": {
    "name": "ipython",
    "version": 3
   },
   "file_extension": ".py",
   "mimetype": "text/x-python",
   "name": "python",
   "nbconvert_exporter": "python",
   "pygments_lexer": "ipython3",
   "version": "3.12.8"
  }
 },
 "nbformat": 4,
 "nbformat_minor": 2
}
